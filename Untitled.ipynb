{
 "cells": [
  {
   "cell_type": "code",
   "execution_count": 12,
   "id": "bcee22a1",
   "metadata": {},
   "outputs": [
    {
     "name": "stdout",
     "output_type": "stream",
     "text": [
      "10\n",
      "12\n",
      "15\n",
      "18\n",
      "34\n",
      "14\n",
      "21\n",
      "16\n",
      "3\n",
      "25\n",
      "10\n"
     ]
    }
   ],
   "source": [
    "n = int(input())\n",
    "arr = []\n",
    "for i in range(0, n):\n",
    "    element = int(input())\n",
    "    arr.append(element)"
   ]
  },
  {
   "cell_type": "code",
   "execution_count": 13,
   "id": "fc9bf09a",
   "metadata": {},
   "outputs": [],
   "source": [
    "def findmax(size, arr):\n",
    "    max = arr[0]\n",
    "    for i in range(size):\n",
    "        if max < arr[i]:\n",
    "            max = arr[i]\n",
    "            idx = i\n",
    "    return i, max"
   ]
  },
  {
   "cell_type": "code",
   "execution_count": 14,
   "id": "3da99250",
   "metadata": {},
   "outputs": [],
   "source": []
  },
  {
   "cell_type": "code",
   "execution_count": 23,
   "id": "c8ceee0d",
   "metadata": {},
   "outputs": [],
   "source": [
    "count = n\n",
    "step = 0\n",
    "while count!=0:\n",
    "    idx, max = findmax(n, arr)    \n",
    "    for i in range(idx, n):\n",
    "        print(i, \" \")\n",
    "        arr.pop(i)\n",
    "        count = count - 1\n",
    "    n = idx\n",
    "    step = step + 1"
   ]
  },
  {
   "cell_type": "code",
   "execution_count": 24,
   "id": "cb55eb74",
   "metadata": {},
   "outputs": [
    {
     "data": {
      "text/plain": [
       "0"
      ]
     },
     "execution_count": 24,
     "metadata": {},
     "output_type": "execute_result"
    }
   ],
   "source": [
    "step"
   ]
  },
  {
   "cell_type": "code",
   "execution_count": 25,
   "id": "0a2bb6e5",
   "metadata": {},
   "outputs": [
    {
     "data": {
      "text/plain": [
       "0"
      ]
     },
     "execution_count": 25,
     "metadata": {},
     "output_type": "execute_result"
    }
   ],
   "source": []
  },
  {
   "cell_type": "code",
   "execution_count": null,
   "id": "62364fd6",
   "metadata": {},
   "outputs": [],
   "source": []
  }
 ],
 "metadata": {
  "kernelspec": {
   "display_name": "Python 3",
   "language": "python",
   "name": "python3"
  },
  "language_info": {
   "codemirror_mode": {
    "name": "ipython",
    "version": 3
   },
   "file_extension": ".py",
   "mimetype": "text/x-python",
   "name": "python",
   "nbconvert_exporter": "python",
   "pygments_lexer": "ipython3",
   "version": "3.8.8"
  }
 },
 "nbformat": 4,
 "nbformat_minor": 5
}
